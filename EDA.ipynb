{
 "cells": [
  {
   "cell_type": "markdown",
   "metadata": {},
   "source": [
    "## EXPALATORY DATA ANALYSIS"
   ]
  },
  {
   "cell_type": "code",
   "execution_count": 2,
   "metadata": {},
   "outputs": [],
   "source": [
    "#explore the data\n",
    "\n",
    "import numpy as np\n",
    "import pandas as pd\n",
    "import scipy.stats as stats\n",
    "import matplotlib.pyplot as plt\n",
    "import seaborn as sns\n",
    "import warnings\n",
    "\n",
    "warnings.filterwarnings('ignore')\n",
    "from matplotlib import pyplot as plt"
   ]
  },
  {
   "cell_type": "code",
   "execution_count": 3,
   "metadata": {},
   "outputs": [
    {
     "data": {
      "text/html": [
       "<div>\n",
       "<style scoped>\n",
       "    .dataframe tbody tr th:only-of-type {\n",
       "        vertical-align: middle;\n",
       "    }\n",
       "\n",
       "    .dataframe tbody tr th {\n",
       "        vertical-align: top;\n",
       "    }\n",
       "\n",
       "    .dataframe thead th {\n",
       "        text-align: right;\n",
       "    }\n",
       "</style>\n",
       "<table border=\"1\" class=\"dataframe\">\n",
       "  <thead>\n",
       "    <tr style=\"text-align: right;\">\n",
       "      <th></th>\n",
       "      <th>Unnamed: 0</th>\n",
       "      <th>id</th>\n",
       "      <th>amount_tsh</th>\n",
       "      <th>date_recorded</th>\n",
       "      <th>funder</th>\n",
       "      <th>gps_height</th>\n",
       "      <th>installer</th>\n",
       "      <th>longitude</th>\n",
       "      <th>latitude</th>\n",
       "      <th>wpt_name</th>\n",
       "      <th>...</th>\n",
       "      <th>water_quality</th>\n",
       "      <th>quality_group</th>\n",
       "      <th>quantity</th>\n",
       "      <th>quantity_group</th>\n",
       "      <th>source</th>\n",
       "      <th>source_type</th>\n",
       "      <th>source_class</th>\n",
       "      <th>waterpoint_type</th>\n",
       "      <th>waterpoint_type_group</th>\n",
       "      <th>status_group</th>\n",
       "    </tr>\n",
       "  </thead>\n",
       "  <tbody>\n",
       "    <tr>\n",
       "      <th>0</th>\n",
       "      <td>0</td>\n",
       "      <td>69572</td>\n",
       "      <td>6000.0</td>\n",
       "      <td>3/14/2011</td>\n",
       "      <td>Roman</td>\n",
       "      <td>1390</td>\n",
       "      <td>Roman</td>\n",
       "      <td>34.938093</td>\n",
       "      <td>-9.856322</td>\n",
       "      <td>none</td>\n",
       "      <td>...</td>\n",
       "      <td>soft</td>\n",
       "      <td>good</td>\n",
       "      <td>enough</td>\n",
       "      <td>enough</td>\n",
       "      <td>spring</td>\n",
       "      <td>spring</td>\n",
       "      <td>groundwater</td>\n",
       "      <td>communal standpipe</td>\n",
       "      <td>communal standpipe</td>\n",
       "      <td>functional</td>\n",
       "    </tr>\n",
       "    <tr>\n",
       "      <th>1</th>\n",
       "      <td>1</td>\n",
       "      <td>8776</td>\n",
       "      <td>0.0</td>\n",
       "      <td>3/6/2013</td>\n",
       "      <td>Grumeti</td>\n",
       "      <td>1399</td>\n",
       "      <td>GRUMETI</td>\n",
       "      <td>34.698766</td>\n",
       "      <td>-2.147466</td>\n",
       "      <td>Zahanati</td>\n",
       "      <td>...</td>\n",
       "      <td>soft</td>\n",
       "      <td>good</td>\n",
       "      <td>insufficient</td>\n",
       "      <td>insufficient</td>\n",
       "      <td>rainwater harvesting</td>\n",
       "      <td>rainwater harvesting</td>\n",
       "      <td>surface</td>\n",
       "      <td>communal standpipe</td>\n",
       "      <td>communal standpipe</td>\n",
       "      <td>functional</td>\n",
       "    </tr>\n",
       "    <tr>\n",
       "      <th>2</th>\n",
       "      <td>2</td>\n",
       "      <td>34310</td>\n",
       "      <td>25.0</td>\n",
       "      <td>2/25/2013</td>\n",
       "      <td>Lottery Club</td>\n",
       "      <td>686</td>\n",
       "      <td>World vision</td>\n",
       "      <td>37.460664</td>\n",
       "      <td>-3.821329</td>\n",
       "      <td>Kwa Mahundi</td>\n",
       "      <td>...</td>\n",
       "      <td>soft</td>\n",
       "      <td>good</td>\n",
       "      <td>enough</td>\n",
       "      <td>enough</td>\n",
       "      <td>dam</td>\n",
       "      <td>dam</td>\n",
       "      <td>surface</td>\n",
       "      <td>communal standpipe multiple</td>\n",
       "      <td>communal standpipe</td>\n",
       "      <td>functional</td>\n",
       "    </tr>\n",
       "    <tr>\n",
       "      <th>3</th>\n",
       "      <td>3</td>\n",
       "      <td>67743</td>\n",
       "      <td>0.0</td>\n",
       "      <td>1/28/2013</td>\n",
       "      <td>Unicef</td>\n",
       "      <td>263</td>\n",
       "      <td>UNICEF</td>\n",
       "      <td>38.486161</td>\n",
       "      <td>-11.155298</td>\n",
       "      <td>Zahanati Ya Nanyumbu</td>\n",
       "      <td>...</td>\n",
       "      <td>soft</td>\n",
       "      <td>good</td>\n",
       "      <td>dry</td>\n",
       "      <td>dry</td>\n",
       "      <td>machine dbh</td>\n",
       "      <td>borehole</td>\n",
       "      <td>groundwater</td>\n",
       "      <td>communal standpipe multiple</td>\n",
       "      <td>communal standpipe</td>\n",
       "      <td>non functional</td>\n",
       "    </tr>\n",
       "    <tr>\n",
       "      <th>4</th>\n",
       "      <td>4</td>\n",
       "      <td>19728</td>\n",
       "      <td>0.0</td>\n",
       "      <td>7/13/2011</td>\n",
       "      <td>Action In A</td>\n",
       "      <td>0</td>\n",
       "      <td>Artisan</td>\n",
       "      <td>31.130847</td>\n",
       "      <td>-1.825359</td>\n",
       "      <td>Shuleni</td>\n",
       "      <td>...</td>\n",
       "      <td>soft</td>\n",
       "      <td>good</td>\n",
       "      <td>seasonal</td>\n",
       "      <td>seasonal</td>\n",
       "      <td>rainwater harvesting</td>\n",
       "      <td>rainwater harvesting</td>\n",
       "      <td>surface</td>\n",
       "      <td>communal standpipe</td>\n",
       "      <td>communal standpipe</td>\n",
       "      <td>functional</td>\n",
       "    </tr>\n",
       "  </tbody>\n",
       "</table>\n",
       "<p>5 rows × 41 columns</p>\n",
       "</div>"
      ],
      "text/plain": [
       "   Unnamed: 0     id  amount_tsh date_recorded        funder  gps_height  \\\n",
       "0           0  69572      6000.0     3/14/2011         Roman        1390   \n",
       "1           1   8776         0.0      3/6/2013       Grumeti        1399   \n",
       "2           2  34310        25.0     2/25/2013  Lottery Club         686   \n",
       "3           3  67743         0.0     1/28/2013        Unicef         263   \n",
       "4           4  19728         0.0     7/13/2011   Action In A           0   \n",
       "\n",
       "      installer  longitude   latitude              wpt_name  ...  \\\n",
       "0         Roman  34.938093  -9.856322                  none  ...   \n",
       "1       GRUMETI  34.698766  -2.147466              Zahanati  ...   \n",
       "2  World vision  37.460664  -3.821329           Kwa Mahundi  ...   \n",
       "3        UNICEF  38.486161 -11.155298  Zahanati Ya Nanyumbu  ...   \n",
       "4       Artisan  31.130847  -1.825359               Shuleni  ...   \n",
       "\n",
       "   water_quality quality_group      quantity quantity_group  \\\n",
       "0           soft          good        enough         enough   \n",
       "1           soft          good  insufficient   insufficient   \n",
       "2           soft          good        enough         enough   \n",
       "3           soft          good           dry            dry   \n",
       "4           soft          good      seasonal       seasonal   \n",
       "\n",
       "                 source           source_type source_class  \\\n",
       "0                spring                spring  groundwater   \n",
       "1  rainwater harvesting  rainwater harvesting      surface   \n",
       "2                   dam                   dam      surface   \n",
       "3           machine dbh              borehole  groundwater   \n",
       "4  rainwater harvesting  rainwater harvesting      surface   \n",
       "\n",
       "               waterpoint_type  waterpoint_type_group    status_group  \n",
       "0           communal standpipe     communal standpipe      functional  \n",
       "1           communal standpipe     communal standpipe      functional  \n",
       "2  communal standpipe multiple     communal standpipe      functional  \n",
       "3  communal standpipe multiple     communal standpipe  non functional  \n",
       "4           communal standpipe     communal standpipe      functional  \n",
       "\n",
       "[5 rows x 41 columns]"
      ]
     },
     "execution_count": 3,
     "metadata": {},
     "output_type": "execute_result"
    }
   ],
   "source": [
    "combined=pd.read_csv('cleaned_data.csv1')\n",
    "combined.head()"
   ]
  },
  {
   "cell_type": "code",
   "execution_count": 4,
   "metadata": {},
   "outputs": [
    {
     "data": {
      "text/html": [
       "<div>\n",
       "<style scoped>\n",
       "    .dataframe tbody tr th:only-of-type {\n",
       "        vertical-align: middle;\n",
       "    }\n",
       "\n",
       "    .dataframe tbody tr th {\n",
       "        vertical-align: top;\n",
       "    }\n",
       "\n",
       "    .dataframe thead th {\n",
       "        text-align: right;\n",
       "    }\n",
       "</style>\n",
       "<table border=\"1\" class=\"dataframe\">\n",
       "  <thead>\n",
       "    <tr style=\"text-align: right;\">\n",
       "      <th></th>\n",
       "      <th>Unnamed: 0</th>\n",
       "      <th>id</th>\n",
       "      <th>amount_tsh</th>\n",
       "      <th>gps_height</th>\n",
       "      <th>longitude</th>\n",
       "      <th>latitude</th>\n",
       "      <th>num_private</th>\n",
       "      <th>region_code</th>\n",
       "      <th>district_code</th>\n",
       "      <th>population</th>\n",
       "      <th>construction_year</th>\n",
       "    </tr>\n",
       "  </thead>\n",
       "  <tbody>\n",
       "    <tr>\n",
       "      <th>count</th>\n",
       "      <td>59029.000000</td>\n",
       "      <td>59029.000000</td>\n",
       "      <td>59029.000000</td>\n",
       "      <td>59029.000000</td>\n",
       "      <td>59029.000000</td>\n",
       "      <td>5.902900e+04</td>\n",
       "      <td>59029.000000</td>\n",
       "      <td>59029.000000</td>\n",
       "      <td>59029.000000</td>\n",
       "      <td>59029.000000</td>\n",
       "      <td>59029.000000</td>\n",
       "    </tr>\n",
       "    <tr>\n",
       "      <th>mean</th>\n",
       "      <td>29698.817361</td>\n",
       "      <td>37126.674956</td>\n",
       "      <td>319.646832</td>\n",
       "      <td>672.299582</td>\n",
       "      <td>34.062263</td>\n",
       "      <td>-5.704219e+00</td>\n",
       "      <td>0.477121</td>\n",
       "      <td>15.383811</td>\n",
       "      <td>5.646614</td>\n",
       "      <td>180.941097</td>\n",
       "      <td>1308.488048</td>\n",
       "    </tr>\n",
       "    <tr>\n",
       "      <th>std</th>\n",
       "      <td>17148.643844</td>\n",
       "      <td>21455.814250</td>\n",
       "      <td>3006.873793</td>\n",
       "      <td>693.281914</td>\n",
       "      <td>6.585080</td>\n",
       "      <td>2.954644e+00</td>\n",
       "      <td>12.274565</td>\n",
       "      <td>17.606846</td>\n",
       "      <td>9.661485</td>\n",
       "      <td>472.709908</td>\n",
       "      <td>949.095754</td>\n",
       "    </tr>\n",
       "    <tr>\n",
       "      <th>min</th>\n",
       "      <td>0.000000</td>\n",
       "      <td>0.000000</td>\n",
       "      <td>0.000000</td>\n",
       "      <td>-90.000000</td>\n",
       "      <td>0.000000</td>\n",
       "      <td>-1.164944e+01</td>\n",
       "      <td>0.000000</td>\n",
       "      <td>1.000000</td>\n",
       "      <td>0.000000</td>\n",
       "      <td>0.000000</td>\n",
       "      <td>0.000000</td>\n",
       "    </tr>\n",
       "    <tr>\n",
       "      <th>25%</th>\n",
       "      <td>14849.000000</td>\n",
       "      <td>18533.000000</td>\n",
       "      <td>0.000000</td>\n",
       "      <td>0.000000</td>\n",
       "      <td>33.079614</td>\n",
       "      <td>-8.563705e+00</td>\n",
       "      <td>0.000000</td>\n",
       "      <td>5.000000</td>\n",
       "      <td>2.000000</td>\n",
       "      <td>0.000000</td>\n",
       "      <td>0.000000</td>\n",
       "    </tr>\n",
       "    <tr>\n",
       "      <th>50%</th>\n",
       "      <td>29696.000000</td>\n",
       "      <td>37077.000000</td>\n",
       "      <td>0.000000</td>\n",
       "      <td>377.000000</td>\n",
       "      <td>34.889047</td>\n",
       "      <td>-5.000106e+00</td>\n",
       "      <td>0.000000</td>\n",
       "      <td>12.000000</td>\n",
       "      <td>3.000000</td>\n",
       "      <td>30.000000</td>\n",
       "      <td>1986.000000</td>\n",
       "    </tr>\n",
       "    <tr>\n",
       "      <th>75%</th>\n",
       "      <td>44547.000000</td>\n",
       "      <td>55671.000000</td>\n",
       "      <td>25.000000</td>\n",
       "      <td>1322.000000</td>\n",
       "      <td>37.189623</td>\n",
       "      <td>-3.323780e+00</td>\n",
       "      <td>0.000000</td>\n",
       "      <td>17.000000</td>\n",
       "      <td>5.000000</td>\n",
       "      <td>220.000000</td>\n",
       "      <td>2004.000000</td>\n",
       "    </tr>\n",
       "    <tr>\n",
       "      <th>max</th>\n",
       "      <td>59399.000000</td>\n",
       "      <td>74247.000000</td>\n",
       "      <td>350000.000000</td>\n",
       "      <td>2770.000000</td>\n",
       "      <td>40.345193</td>\n",
       "      <td>-2.000000e-08</td>\n",
       "      <td>1776.000000</td>\n",
       "      <td>99.000000</td>\n",
       "      <td>80.000000</td>\n",
       "      <td>30500.000000</td>\n",
       "      <td>2013.000000</td>\n",
       "    </tr>\n",
       "  </tbody>\n",
       "</table>\n",
       "</div>"
      ],
      "text/plain": [
       "         Unnamed: 0            id     amount_tsh    gps_height     longitude  \\\n",
       "count  59029.000000  59029.000000   59029.000000  59029.000000  59029.000000   \n",
       "mean   29698.817361  37126.674956     319.646832    672.299582     34.062263   \n",
       "std    17148.643844  21455.814250    3006.873793    693.281914      6.585080   \n",
       "min        0.000000      0.000000       0.000000    -90.000000      0.000000   \n",
       "25%    14849.000000  18533.000000       0.000000      0.000000     33.079614   \n",
       "50%    29696.000000  37077.000000       0.000000    377.000000     34.889047   \n",
       "75%    44547.000000  55671.000000      25.000000   1322.000000     37.189623   \n",
       "max    59399.000000  74247.000000  350000.000000   2770.000000     40.345193   \n",
       "\n",
       "           latitude   num_private   region_code  district_code    population  \\\n",
       "count  5.902900e+04  59029.000000  59029.000000   59029.000000  59029.000000   \n",
       "mean  -5.704219e+00      0.477121     15.383811       5.646614    180.941097   \n",
       "std    2.954644e+00     12.274565     17.606846       9.661485    472.709908   \n",
       "min   -1.164944e+01      0.000000      1.000000       0.000000      0.000000   \n",
       "25%   -8.563705e+00      0.000000      5.000000       2.000000      0.000000   \n",
       "50%   -5.000106e+00      0.000000     12.000000       3.000000     30.000000   \n",
       "75%   -3.323780e+00      0.000000     17.000000       5.000000    220.000000   \n",
       "max   -2.000000e-08   1776.000000     99.000000      80.000000  30500.000000   \n",
       "\n",
       "       construction_year  \n",
       "count       59029.000000  \n",
       "mean         1308.488048  \n",
       "std           949.095754  \n",
       "min             0.000000  \n",
       "25%             0.000000  \n",
       "50%          1986.000000  \n",
       "75%          2004.000000  \n",
       "max          2013.000000  "
      ]
     },
     "execution_count": 4,
     "metadata": {},
     "output_type": "execute_result"
    }
   ],
   "source": [
    "#summary statistics of the data frame\n",
    "combined.describe()"
   ]
  },
  {
   "cell_type": "markdown",
   "metadata": {},
   "source": [
    "#### From the summary statistics below you can see that the average population around the wells is `180.94` Also the average amount of water available to water points is `319.646832` tsh \n"
   ]
  },
  {
   "cell_type": "code",
   "execution_count": 5,
   "metadata": {},
   "outputs": [
    {
     "name": "stderr",
     "output_type": "stream",
     "text": [
      "c:\\Users\\user\\anaconda3\\lib\\site-packages\\seaborn\\_decorators.py:36: FutureWarning: Pass the following variable as a keyword arg: x. From version 0.12, the only valid positional argument will be `data`, and passing other arguments without an explicit keyword will result in an error or misinterpretation.\n",
      "  warnings.warn(\n"
     ]
    },
    {
     "data": {
      "text/plain": [
       "<AxesSubplot:xlabel='extraction_type_class', ylabel='count'>"
      ]
     },
     "execution_count": 5,
     "metadata": {},
     "output_type": "execute_result"
    },
    {
     "data": {
      "image/png": "[encoded data removed]",
      "text/plain": [
       "<Figure size 936x432 with 1 Axes>"
      ]
     },
     "metadata": {
      "needs_background": "light"
     },
     "output_type": "display_data"
    }
   ],
   "source": [
    "#look at types of pumps\n",
    "plte(figsize=(13,6))\n",
    ".figursns.countplot(combined.extraction_type_clatte = 'Set3')ss, pale"
   ]
  },
  {
   "cell_type": "markdown",
   "metadata": {},
   "source": [
    "#### From the abbove plot we can see thhaat gravity pumps mostly installed in tanzania  followed bby the handpump and the least from the chart  it iis wind_powered pump"
   ]
  },
  {
   "cell_type": "code",
   "execution_count": 10,
   "metadata": {},
   "outputs": [
    {
     "data": {
      "text/plain": [
       "<AxesSubplot:xlabel='status_group', ylabel='count'>"
      ]
     },
     "execution_count": 10,
     "metadata": {},
     "output_type": "execute_result"
    },
    {
     "data": {
      "image/png": "[encoded data removed]",
      "text/plain": [
       "<Figure size 432x288 with 1 Axes>"
      ]
     },
     "metadata": {
      "needs_background": "light"
     },
     "output_type": "display_data"
    }
   ],
   "source": [
    "#look at countplot of outcomes we will eventually predict\n",
    "sns.countplot(combined.status_group, palette = 'Set3')"
   ]
  },
  {
   "cell_type": "code",
   "execution_count": 20,
   "metadata": {},
   "outputs": [
    {
     "data": {
      "text/plain": [
       "<AxesSubplot:xlabel='waterpoint_type', ylabel='count'>"
      ]
     },
     "execution_count": 20,
     "metadata": {},
     "output_type": "execute_result"
    },
    {
     "data": {
      "image/png": "[encoded data removed]",
      "text/plain": [
       "<Figure size 936x432 with 1 Axes>"
      ]
     },
     "metadata": {
      "needs_background": "light"
     },
     "output_type": "display_data"
    }
   ],
   "source": [
    "# plot count plot for waterpoint_type\n",
    "plt.figure(figsize=(13,6))\n",
    "sns.countplot(combined.waterpoint_type, palette = 'Set3')"
   ]
  },
  {
   "cell_type": "markdown",
   "metadata": {},
   "source": [
    "#### Most of the pumps are functional it will be hard to make prediction  these pumps need repair "
   ]
  },
  {
   "cell_type": "code",
   "execution_count": 12,
   "metadata": {},
   "outputs": [
    {
     "data": {
      "text/plain": [
       "<AxesSubplot:xlabel='management', ylabel='count'>"
      ]
     },
     "execution_count": 12,
     "metadata": {},
     "output_type": "execute_result"
    },
    {
     "data": {
      "image/png": "[encoded data removed]",
      "text/plain": [
       "<Figure size 936x432 with 1 Axes>"
      ]
     },
     "metadata": {
      "needs_background": "light"
     },
     "output_type": "display_data"
    }
   ],
   "source": [
    "# plot count plot for managment\n",
    "plt.figure(figsize=(13,6))\n",
    "sns.countplot(combined.management, palette = 'Set3')"
   ]
  },
  {
   "cell_type": "markdown",
   "metadata": {},
   "source": [
    "#### from the chart above we can see that the wwc manages the pump weel withh over 40000  follows bby thhe wug and thhe least are the school and trust\n"
   ]
  },
  {
   "cell_type": "code",
   "execution_count": 18,
   "metadata": {},
   "outputs": [
    {
     "data": {
      "text/plain": [
       "<AxesSubplot:xlabel='extraction_type_class', ylabel='count'>"
      ]
     },
     "execution_count": 18,
     "metadata": {},
     "output_type": "execute_result"
    },
    {
     "data": {
      "image/png": "[encoded data removed]",
      "text/plain": [
       "<Figure size 1152x288 with 2 Axes>"
      ]
     },
     "metadata": {
      "needs_background": "light"
     },
     "output_type": "display_data"
    }
   ],
   "source": [
    "#status_group vs extraction_type_class\n",
    "f, (ax1, ax2) = plt.subplots(1,2, figsize=(16, 4))\n",
    "sns.countplot(data=combined, x='status_group',hue='extraction_type_class', ax=ax1)\n",
    "sns.countplot(data=combined, x='extraction_type_class',hue='status_group', ax=ax2)"
   ]
  },
  {
   "cell_type": "markdown",
   "metadata": {},
   "source": [
    "from the chart above:\n",
    "\n",
    "### GRAVITY WATER PUMP\n",
    "\n",
    "1 Functional gravity water pumps are about 16000.\n",
    "\n",
    "2 Non  function gravity water pump are about 8000.\n",
    "\n",
    "3 functional gravity water pump a bbut need repair are about 2000\n",
    "\n",
    "4\n",
    "### HAND PUMP\n",
    "1 functional hand pump are about 10000.\n",
    "\n",
    "2 Non functional hhand pump are about 5000\n",
    "\n",
    "3 Functional hand pump but need repair are about 2500.\n",
    "\n",
    "### SUBMERSIBLE\n",
    "\n",
    "Functional submersibble water pump are bout 3000.\n",
    "\n",
    "Non functional subbmersiblle  pump are about 2000.\n",
    "\n",
    "Functional hand pump but need repair are few.\n",
    "\n",
    "\n",
    "\n",
    "\n",
    "\n",
    "\n"
   ]
  },
  {
   "cell_type": "code",
   "execution_count": 22,
   "metadata": {},
   "outputs": [],
   "source": [
    "#look at water pump recorded over years\n",
    "combined['date_recorded'] = pd.to_datetime(combined['date_recorded'])"
   ]
  },
  {
   "cell_type": "code",
   "execution_count": 23,
   "metadata": {},
   "outputs": [
    {
     "data": {
      "text/plain": [
       "pandas.core.series.Series"
      ]
     },
     "execution_count": 23,
     "metadata": {},
     "output_type": "execute_result"
    }
   ],
   "source": [
    "#check it worked\n",
    "type(combined['date_recorded'])"
   ]
  },
  {
   "cell_type": "code",
   "execution_count": 24,
   "metadata": {},
   "outputs": [
    {
     "data": {
      "text/plain": [
       "<AxesSubplot:>"
      ]
     },
     "execution_count": 24,
     "metadata": {},
     "output_type": "execute_result"
    },
    {
     "data": {
      "image/png": "[encoded data removed]",
      "text/plain": [
       "<Figure size 432x288 with 1 Axes>"
      ]
     },
     "metadata": {
      "needs_background": "light"
     },
     "output_type": "display_data"
    }
   ],
   "source": [
    "combined['date_recorded'].value_counts().sort_index().plot()"
   ]
  },
  {
   "cell_type": "markdown",
   "metadata": {},
   "source": [
    "From the plot above we have realized that mostly of the pumps were  bbuilt recently from 2011 to 2012 and most of them are functional."
   ]
  },
  {
   "cell_type": "code",
   "execution_count": 25,
   "metadata": {},
   "outputs": [
    {
     "data": {
      "text/plain": [
       "<AxesSubplot:xlabel='region', ylabel='count'>"
      ]
     },
     "execution_count": 25,
     "metadata": {},
     "output_type": "execute_result"
    },
    {
     "data": {
      "image/png": "[encoded data removed]",
      "text/plain": [
       "<Figure size 1440x504 with 1 Axes>"
      ]
     },
     "metadata": {
      "needs_background": "light"
     },
     "output_type": "display_data"
    }
   ],
   "source": [
    "#looking at regions\n",
    "plt.figure(figsize=(20, 7))\n",
    "sns.countplot(combined.region, palette = 'Set3')"
   ]
  },
  {
   "cell_type": "markdown",
   "metadata": {},
   "source": [
    "#### From the chart above we can say that Iringa has the highest water pumps.\n",
    "\n",
    "#### Interesting that the capital region has the fewest - may be because there is more water access there and less smaller pumps are needed "
   ]
  },
  {
   "cell_type": "code",
   "execution_count": 4,
   "metadata": {},
   "outputs": [
    {
     "data": {
      "text/plain": [
       "<AxesSubplot:xlabel='region', ylabel='count'>"
      ]
     },
     "execution_count": 4,
     "metadata": {},
     "output_type": "execute_result"
    },
    {
     "data": {
      "image/png": "[encoded data removed]",
      "text/plain": [
       "<Figure size 1440x504 with 1 Axes>"
      ]
     },
     "metadata": {
      "needs_background": "light"
     },
     "output_type": "display_data"
    }
   ],
   "source": [
    "plt.figure(figsize=(20, 7))\n",
    "sns.countplot(combined.region, palette = 'Set3')"
   ]
  },
  {
   "cell_type": "code",
   "execution_count": null,
   "metadata": {},
   "outputs": [],
   "source": []
  }
 ],
 "metadata": {
  "kernelspec": {
   "display_name": "Python 3.8.5 ('learn-env')",
   "language": "python",
   "name": "python3"
  },
  "language_info": {
   "codemirror_mode": {
    "name": "ipython",
    "version": 3
   },
   "file_extension": ".py",
   "mimetype": "text/x-python",
   "name": "python",
   "nbconvert_exporter": "python",
   "pygments_lexer": "ipython3",
   "version": "3.8.5"
  },
  "orig_nbformat": 4,
  "vscode": {
   "interpreter": {
    "hash": "15e1ea0e9ae73a04f4db62dd1e96b3b16ca57ecdaaf21916cbbe9da1fa870ff9"
   }
  }
 },
 "nbformat": 4,
 "nbformat_minor": 2
}
